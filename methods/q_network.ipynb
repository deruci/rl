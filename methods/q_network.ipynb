{
 "cells": [
  {
   "cell_type": "code",
   "execution_count": 1,
   "metadata": {
    "collapsed": true,
    "deletable": true,
    "editable": true
   },
   "outputs": [],
   "source": [
    "import gym\n",
    "import numpy as np\n",
    "import random\n",
    "import tensorflow as tf\n",
    "import matplotlib.pyplot as plt\n",
    "%matplotlib inline"
   ]
  },
  {
   "cell_type": "code",
   "execution_count": 2,
   "metadata": {
    "collapsed": false,
    "deletable": true,
    "editable": true
   },
   "outputs": [
    {
     "name": "stderr",
     "output_type": "stream",
     "text": [
      "[2017-03-20 02:25:28,718] Making new env: FrozenLake-v0\n"
     ]
    }
   ],
   "source": [
    "env = gym.make('FrozenLake-v0')\n",
    "#env = gym.wrappers.Monitor(env, 'tmp/FrozenLake-v0-test-network')"
   ]
  },
  {
   "cell_type": "code",
   "execution_count": 3,
   "metadata": {
    "collapsed": true,
    "deletable": true,
    "editable": true
   },
   "outputs": [],
   "source": [
    "# set learning parameters\n",
    "n_action      = env.action_space.n\n",
    "n_state       = env.observation_space.n\n",
    "\n",
    "epsilon       = 0.1\n",
    "learning_rate = 0.1\n",
    "gamma         = 0.99\n",
    "n_episode     = 10000"
   ]
  },
  {
   "cell_type": "code",
   "execution_count": 4,
   "metadata": {
    "collapsed": true,
    "deletable": true,
    "editable": true
   },
   "outputs": [],
   "source": [
    "sess_config = tf.ConfigProto()\n",
    "sess_config.gpu_options.allow_growth = True\n",
    "sess_config.allow_soft_placement=True \n",
    "sess_config.log_device_placement=True"
   ]
  },
  {
   "cell_type": "code",
   "execution_count": 5,
   "metadata": {
    "collapsed": true,
    "deletable": true,
    "editable": true
   },
   "outputs": [],
   "source": [
    "inputs = tf.placeholder(shape=[1,16],dtype=tf.float32)\n",
    "W = tf.Variable(tf.random_uniform([16,4],0,0.01))\n",
    "Q = tf.matmul(inputs,W)\n",
    "a_predict = tf.argmax(Q,1)\n",
    "\n",
    "Q_next = tf.placeholder(shape=[1,4],dtype=tf.float32)\n",
    "loss = tf.reduce_sum(tf.square(Q_next - Q))\n",
    "optimizer = tf.train.GradientDescentOptimizer(learning_rate=learning_rate)\n",
    "train_op = optimizer.minimize(loss)"
   ]
  },
  {
   "cell_type": "code",
   "execution_count": 6,
   "metadata": {
    "collapsed": false,
    "deletable": true,
    "editable": true
   },
   "outputs": [
    {
     "name": "stdout",
     "output_type": "stream",
     "text": [
      "At iteration 1000: Percent of succesful episodes: 0.199199199199%\n",
      "At iteration 2000: Percent of succesful episodes: 0.294147073537%\n",
      "At iteration 3000: Percent of succesful episodes: 0.322774258086%\n",
      "At iteration 4000: Percent of succesful episodes: 0.330582645661%\n",
      "At iteration 5000: Percent of succesful episodes: 0.336267253451%\n",
      "At iteration 6000: Percent of succesful episodes: 0.341056842807%\n",
      "At iteration 7000: Percent of succesful episodes: 0.342906129447%\n",
      "At iteration 8000: Percent of succesful episodes: 0.346418302288%\n",
      "At iteration 9000: Percent of succesful episodes: 0.347705300589%\n",
      "At iteration 10000: Percent of succesful episodes: 0.351535153515%\n"
     ]
    }
   ],
   "source": [
    "j_list = []\n",
    "r_list = []\n",
    "\n",
    "init_op = tf.global_variables_initializer()\n",
    "sess = tf.Session(config=sess_config)\n",
    "sess.run(init_op)\n",
    "\n",
    "for i in xrange(n_episode):\n",
    "    s = env.reset()\n",
    "    r_all = 0\n",
    "    d = False\n",
    "    j = 0\n",
    "    while j < 99:\n",
    "        j += 1\n",
    "        a, q_all = sess.run([a_predict, Q], feed_dict={inputs:np.identity(16)[s:s+1]})\n",
    "        \n",
    "        if np.random.rand(1) < epsilon:\n",
    "            a[0] = env.action_space.sample()\n",
    "        s_next, r, d, _ = env.step(a[0])\n",
    "        q_next = sess.run(Q, feed_dict={inputs:np.identity(16)[s_next:s_next+1]})\n",
    "        \n",
    "        max_q_next = np.max(q_next)\n",
    "        q_target = q_all\n",
    "        q_target[0, a[0]] = r + gamma*max_q_next\n",
    "        \n",
    "        _ = sess.run(train_op,feed_dict={inputs:np.identity(16)[s:s+1],Q_next:q_target})        \n",
    "        \n",
    "        r_all += r\n",
    "        s = s_next\n",
    "        if d == True:\n",
    "            e = 1./((i/50) + 10)\n",
    "            break\n",
    "    j_list.append(j)\n",
    "    r_list.append(r_all)\n",
    "    if i != 0 and (i+1) % 1000 == 0:\n",
    "        print \"At iteration \" + str(i+1) + \": Percent of successful episodes: \" + str(sum(r_list)/(i+1)) + \"%\""
   ]
  },
  {
   "cell_type": "code",
   "execution_count": 10,
   "metadata": {
    "collapsed": false
   },
   "outputs": [
    {
     "name": "stdout",
     "output_type": "stream",
     "text": [
      "Percent of succesful episodes: 0.228%\n"
     ]
    }
   ],
   "source": [
    "print \"Percent of succesful episodes: \" + str(sum(r_list)/n_episode) + \"%\""
   ]
  },
  {
   "cell_type": "code",
   "execution_count": null,
   "metadata": {
    "collapsed": true
   },
   "outputs": [],
   "source": []
  }
 ],
 "metadata": {
  "kernelspec": {
   "display_name": "Python 2",
   "language": "python",
   "name": "python2"
  },
  "language_info": {
   "codemirror_mode": {
    "name": "ipython",
    "version": 2
   },
   "file_extension": ".py",
   "mimetype": "text/x-python",
   "name": "python",
   "nbconvert_exporter": "python",
   "pygments_lexer": "ipython2",
   "version": "2.7.12"
  }
 },
 "nbformat": 4,
 "nbformat_minor": 2
}
