{
 "cells": [
  {
   "cell_type": "code",
   "execution_count": null,
   "metadata": {
    "collapsed": true
   },
   "outputs": [],
   "source": [
    "import gym\n",
    "import numpy as np"
   ]
  },
  {
   "cell_type": "code",
   "execution_count": null,
   "metadata": {
    "collapsed": false
   },
   "outputs": [],
   "source": [
    "env = gym.make('FrozenLake-v0')\n",
    "env = gym.wrappers.Monitor(env, 'tmp/FrozenLake-v0-test0')"
   ]
  },
  {
   "cell_type": "code",
   "execution_count": null,
   "metadata": {
    "collapsed": false
   },
   "outputs": [],
   "source": [
    "# set learning parameters\n",
    "n_action      = env.action_space.n\n",
    "n_state       = env.observation_space.n\n",
    "\n",
    "learning_rate = 0.85\n",
    "gamma         = 0.99\n",
    "n_episode     = 20000"
   ]
  },
  {
   "cell_type": "code",
   "execution_count": null,
   "metadata": {
    "collapsed": true
   },
   "outputs": [],
   "source": [
    "q_table = np.zeros([n_state, n_action])"
   ]
  },
  {
   "cell_type": "code",
   "execution_count": null,
   "metadata": {
    "collapsed": false
   },
   "outputs": [],
   "source": [
    "q_table.shape"
   ]
  },
  {
   "cell_type": "code",
   "execution_count": null,
   "metadata": {
    "collapsed": false
   },
   "outputs": [],
   "source": [
    "r_list = []\n",
    "for i in xrange(n_episode):\n",
    "    s = env.reset()\n",
    "    r_all = 0\n",
    "    d = False\n",
    "    j = 0\n",
    "    for j in xrange(100):\n",
    "        a = np.argmax(q_table[s,:] + np.random.randn(1, n_action) * 1./(i+1))\n",
    "        s_next, r, d, _ = env.step(a)\n",
    "        q_table[s,a] = q_table[s,a] + learning_rate * (r + gamma*np.max(q_table[s_next,a]) - q_table[s,a])\n",
    "        r_all += r\n",
    "        s = s_next\n",
    "        #if j % 10:\n",
    "            #env.render()\n",
    "        if d == True:\n",
    "            break\n",
    "    r_list.append(r_all)\n",
    "    if i % 1000 == 0:\n",
    "        print(\"Score over time : {}\".format(sum(r_list)/n_episode))"
   ]
  },
  {
   "cell_type": "code",
   "execution_count": null,
   "metadata": {
    "collapsed": false
   },
   "outputs": [],
   "source": [
    "print(q_table)"
   ]
  },
  {
   "cell_type": "code",
   "execution_count": null,
   "metadata": {
    "collapsed": false
   },
   "outputs": [],
   "source": [
    "np.max(q_table)"
   ]
  },
  {
   "cell_type": "code",
   "execution_count": null,
   "metadata": {
    "collapsed": true
   },
   "outputs": [],
   "source": []
  }
 ],
 "metadata": {
  "kernelspec": {
   "display_name": "Python 2",
   "language": "python",
   "name": "python2"
  },
  "language_info": {
   "codemirror_mode": {
    "name": "ipython",
    "version": 2
   },
   "file_extension": ".py",
   "mimetype": "text/x-python",
   "name": "python",
   "nbconvert_exporter": "python",
   "pygments_lexer": "ipython2",
   "version": "2.7.12"
  }
 },
 "nbformat": 4,
 "nbformat_minor": 2
}
